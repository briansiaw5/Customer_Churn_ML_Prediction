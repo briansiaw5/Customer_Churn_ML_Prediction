{
 "cells": [
  {
   "cell_type": "markdown",
   "metadata": {},
   "source": [
    "# **Telco Customer Churn Project**"
   ]
  },
  {
   "cell_type": "markdown",
   "metadata": {},
   "source": [
    "### Team: Team Namibia\n",
    "#### Author: Brian Siaw"
   ]
  },
  {
   "cell_type": "markdown",
   "metadata": {},
   "source": [
    "## Table of Contents\n",
    "\n",
    "\n",
    "[**Business Understanding**](#Business-Understanding)\n",
    "\n",
    "[**Data Understanding**](#Data-Understanding)\n",
    "\n",
    "[**Exploratory Data Analysis**](#exploratory-data-analysis)\n",
    "\n",
    "[**Data Preparation**](#Check-Data-Quality)\n",
    "\n",
    "[**Hypothesis Testing**](#hypothesis-testing)\n",
    "\n",
    "[**Analytical Questions**](#analytical-questions)\n",
    " "
   ]
  },
  {
   "cell_type": "markdown",
   "metadata": {},
   "source": [
    "\n",
    "\n",
    "## Business Understanding\n",
    "This project analyzes and predicts customer churn rate for a telecommunications company using Python and machine learning. Customer churn refers to the rate at which customers stop using the company's services. Identifying key factors influencing churn allows the company to implement strategies for customer retention and churn reduction.\n",
    "\n",
    "\n",
    "#### Problem Statement:\n",
    "The telecommunications company is experiencing a high rate of customer churn, which negatively impacts revenue and growth. Despite efforts to retain customers, the company lacks a systematic and data-driven approach to identifying the key factors driving churn and predicting which customers are most likely to leave. This project aims to address this issue by leveraging machine learning techniques to analyze customer data, identify patterns and predictors of churn, and develop a predictive model to help the company implement targeted retention strategies.\n",
    "\n",
    "\n",
    "\n",
    "#### Goal and Objectives\n",
    "##### Goal\n",
    " Identify factors contributing to customer churn and develop a predictive model to forecast churn accurately. This enables the company to take proactive measures to improve customer retention.\n",
    "\n",
    " ##### Objective\n",
    "1. Data Collection & Cleaning: Gather and preprocess customer data from various sources.\n",
    "2. Exploratory Data Analysis (EDA): Understand underlying patterns and trends in the data.\n",
    "3. Feature Engineering: Create relevant features to improve the model's predictive power.\n",
    "4. Model Building: Develop and train machine learning models to predict customer churn.\n",
    "5. Model Evaluation: Evaluate model performance using appropriate metrics.\n",
    "6. Recommendations: Provide actionable insights and recommendations to the Telco company toreduce churn.\n",
    "\n",
    "#### Stakeholders\n",
    "1. Management: Interested in overall churn rates and revenue impact.\n",
    "2. Marketing Team: Needs to understand customer segments at higher churn risk.\n",
    "3. Customer Service Team: Can use insights to improve customer support and retention strategies \n",
    "4. Product Development Team: Can use feedback to enhance service offerings.\n",
    "\n",
    "#### Key Metrics and Success Criteria\n",
    "#### Key Metrics:\n",
    "1. Churn Rate: Percentage of customers who stop using the service within a specific period.\n",
    "2. Accuracy: Proportion of correctly predicted churn vs. non-churn instances.\n",
    "3. Precision & Recall: Precision measures positive prediction accuracy, while recall measures identifying actual churn cases.\n",
    "4. F1 Score: Harmonic mean of precision and recall.\n",
    "5. ROC-AUC: Area Under the Receiver Operating Characteristic Curve, indicating the model's ability to distinguish between classes.\n",
    "\n",
    "#### Success Criteria:\n",
    "1. Achieve a predictive model with at least 85% accuracy.\n",
    "2. High precision and recall scores (above 80%).\n",
    "3. Implement recommendations that result in a measurable decrease in churn rate over the next year.\n",
    "\n",
    "#### Hypothesis (Null and Alternate)\n",
    "Null Hypothesis (H0): There is no significant relationship between customer features (contract type, monthly charges, tenure, dependents, etc.) and customer churn.\n",
    "Alternate Hypothesis (H1): There is a significant relationship between the selected customer features and customer churn.\n",
    "\n",
    "#### Business Analytical Questions\n",
    "1. What are the primary factors influencing customer churn in the telecommunications industry?\n",
    "Objective: Identify and analyze key factors like service quality, pricing, customer service interactions, and contract types that contribute to customer churn. Look for trends and patterns in these factors to understand their impact on customer retention.\n",
    "\n",
    "2. How does contract type affect the likelihood of customer churn?\n",
    "Objective: Examine the relationship between different contract types (e.g., month-to-month, one-year, two-year contracts) and churn rates. Determine if certain contract types are associated with higher or lower churn.\n",
    "\n",
    "3. Is there a correlation between customer service interactions and churn rates?\n",
    "Objective: Investigate whether the frequency and nature of customer service interactions (e.g., number of service requests, resolution time, satisfaction levels) correlate with customer churn rates.\n",
    "\n",
    "4. How do demographic factors (age, income) impact customer churn?\n",
    "Objective: Assess the influence of demographic factors such as age and income on customer churn. Determine if certain demographic segments are more likely to churn and explore potential reasons.\n",
    "\n",
    "5. What is the impact of monthly charges and tenure on the likelihood of a customer churning?\n",
    "Objective: Analyze how monthly charges and customer tenure affect churn rates. Identify pricing thresholds that lead to higher churn and understand how customer loyalty changes over time.\n",
    "\n",
    "6. Are specific customer segments at higher risk of churning?\n",
    "Objective: Segment the customer base to identify groups at higher risk of churning. Use clustering and predictive modeling to determine high-risk segments and their characteristics.\n",
    "\n",
    "#### Scope and Constraints\n",
    "#### Scope:\n",
    "Analysis limited to customer data provided by the telecommunications company.\n",
    "Focus on developing a machine learning model to predict churn and providing actionable insights based on the model's findings.\n",
    "\n",
    "#### Constraints:\n",
    "1. Data availability and quality: The analysis depends on the accuracy and completeness of the customer data.\n",
    "2. Resource limitations: Time and computational resources for data processing and model training.\n",
    "3. Privacy concerns: Ensuring customer data is handled securely in order to maintain confidentiality and privacy.\n",
    "\n"
   ]
  },
  {
   "cell_type": "markdown",
   "metadata": {},
   "source": [
    "## Data Understanding\n",
    "\n",
    "The being used for this project is obtained from 3 data sources. The first two datasets will be used to train the model and the tbird will be used to test the model.\n",
    "\n",
    "- The first dataset is hosted on a databse on the Microsoft SQL Server\n",
    "- The second dataset was obtained from a Github repository\n",
    "- The third dataset was obtained from OneDrive"
   ]
  },
  {
   "cell_type": "markdown",
   "metadata": {},
   "source": [
    "### Load Data"
   ]
  },
  {
   "cell_type": "markdown",
   "metadata": {},
   "source": [
    "#### Install pyodbc and python-dotenv if necessary"
   ]
  },
  {
   "cell_type": "code",
   "execution_count": null,
   "metadata": {},
   "outputs": [],
   "source": [
    "# For creating a connection\n",
    "!pip install pyodbc \n",
    "\n",
    "# For loading environment variables\n",
    "!pip install python-dotenv  \n",
    "\n",
    "# For creating visualizations\n",
    "!pip install matplotlib\n",
    "!pip install seaborn\n",
    "\n",
    "# For statistical model analysis\n",
    "!pip install statsmodels\n",
    "\n",
    "#For reading .xlsx files\n",
    "!pip install openpyxl\n"
   ]
  },
  {
   "cell_type": "markdown",
   "metadata": {},
   "source": [
    "#### Import the necessary packages"
   ]
  },
  {
   "cell_type": "code",
   "execution_count": 6,
   "metadata": {},
   "outputs": [],
   "source": [
    "# Import the pyodbc library to handle ODBC database connections\n",
    "import pyodbc \n",
    "\n",
    "# Import the dotenv function to load environment variables from a .env file\n",
    "from dotenv import dotenv_values \n",
    "\n",
    "# Import the pandas library for data manipulation and analysis\n",
    "import pandas as pd \n",
    "import numpy as np\n",
    "\n",
    "# Import Matplotlib for  visualizations in Python\n",
    "import matplotlib.pyplot as plt\n",
    "\n",
    "# Import Seaborn for statistical data visualization based on Matplotlib\n",
    "import seaborn as sns\n",
    "\n",
    "# Import the warnings library to handle warning messages\n",
    "import warnings\n",
    "\n",
    "# Filter out (ignore) any warnings that are raised\n",
    "warnings.filterwarnings('ignore')\n",
    "\n",
    "# Import re for string manipulation (searching, matching, and modifying strings based on specific patterns)\n",
    "import re\n",
    "\n",
    "# Import for statistical model analysis\n",
    "import statsmodels.api as sm\n",
    "from statsmodels.formula.api import ols"
   ]
  },
  {
   "cell_type": "markdown",
   "metadata": {},
   "source": [
    "#### Establishing a connection to the SQL database"
   ]
  },
  {
   "cell_type": "code",
   "execution_count": 7,
   "metadata": {},
   "outputs": [],
   "source": [
    "# Load environment variables from .env file into a dictionary\n",
    "environment_variables = dotenv_values('.env')\n",
    "\n",
    "# Get the values for the credentials you set in the '.env' file\n",
    "database = environment_variables.get('DATABASE')\n",
    "server = environment_variables.get('SERVER')\n",
    "username = environment_variables.get('UID')\n",
    "password = environment_variables.get('PWD')\n",
    "\n",
    "connection_string = f\"DRIVER={{SQL Server}};SERVER={server};DATABASE={database};UID={username};PWD={password}\""
   ]
  },
  {
   "cell_type": "code",
   "execution_count": 8,
   "metadata": {},
   "outputs": [
    {
     "name": "stdout",
     "output_type": "stream",
     "text": [
      "DRIVER={SQL Server};SERVER=None;DATABASE=None;UID=None;PWD=None\n"
     ]
    }
   ],
   "source": [
    "print(connection_string)"
   ]
  },
  {
   "cell_type": "code",
   "execution_count": null,
   "metadata": {},
   "outputs": [],
   "source": [
    "# Use the connect method of the pyodbc library and pass in the connection string.\n",
    "connection = pyodbc.connect(connection_string)"
   ]
  },
  {
   "cell_type": "markdown",
   "metadata": {},
   "source": [
    "#### Load Dataset 1"
   ]
  },
  {
   "cell_type": "code",
   "execution_count": null,
   "metadata": {},
   "outputs": [
    {
     "data": {
      "text/html": [
       "<div>\n",
       "<style scoped>\n",
       "    .dataframe tbody tr th:only-of-type {\n",
       "        vertical-align: middle;\n",
       "    }\n",
       "\n",
       "    .dataframe tbody tr th {\n",
       "        vertical-align: top;\n",
       "    }\n",
       "\n",
       "    .dataframe thead th {\n",
       "        text-align: right;\n",
       "    }\n",
       "</style>\n",
       "<table border=\"1\" class=\"dataframe\">\n",
       "  <thead>\n",
       "    <tr style=\"text-align: right;\">\n",
       "      <th></th>\n",
       "      <th>Company_Brand</th>\n",
       "      <th>Founded</th>\n",
       "      <th>HeadQuarter</th>\n",
       "      <th>Sector</th>\n",
       "      <th>What_it_does</th>\n",
       "      <th>Founders</th>\n",
       "      <th>Investor</th>\n",
       "      <th>Amount</th>\n",
       "      <th>Stage</th>\n",
       "      <th>column10</th>\n",
       "    </tr>\n",
       "  </thead>\n",
       "  <tbody>\n",
       "    <tr>\n",
       "      <th>0</th>\n",
       "      <td>Aqgromalin</td>\n",
       "      <td>2019.0</td>\n",
       "      <td>Chennai</td>\n",
       "      <td>AgriTech</td>\n",
       "      <td>Cultivating Ideas for Profit</td>\n",
       "      <td>Prasanna Manogaran, Bharani C L</td>\n",
       "      <td>Angel investors</td>\n",
       "      <td>200000.0</td>\n",
       "      <td>None</td>\n",
       "      <td>None</td>\n",
       "    </tr>\n",
       "    <tr>\n",
       "      <th>1</th>\n",
       "      <td>Krayonnz</td>\n",
       "      <td>2019.0</td>\n",
       "      <td>Bangalore</td>\n",
       "      <td>EdTech</td>\n",
       "      <td>An academy-guardian-scholar centric ecosystem ...</td>\n",
       "      <td>Saurabh Dixit, Gurudutt Upadhyay</td>\n",
       "      <td>GSF Accelerator</td>\n",
       "      <td>100000.0</td>\n",
       "      <td>Pre-seed</td>\n",
       "      <td>None</td>\n",
       "    </tr>\n",
       "    <tr>\n",
       "      <th>2</th>\n",
       "      <td>PadCare Labs</td>\n",
       "      <td>2018.0</td>\n",
       "      <td>Pune</td>\n",
       "      <td>Hygiene management</td>\n",
       "      <td>Converting bio-hazardous waste to harmless waste</td>\n",
       "      <td>Ajinkya Dhariya</td>\n",
       "      <td>Venture Center</td>\n",
       "      <td>NaN</td>\n",
       "      <td>Pre-seed</td>\n",
       "      <td>None</td>\n",
       "    </tr>\n",
       "    <tr>\n",
       "      <th>3</th>\n",
       "      <td>NCOME</td>\n",
       "      <td>2020.0</td>\n",
       "      <td>New Delhi</td>\n",
       "      <td>Escrow</td>\n",
       "      <td>Escrow-as-a-service platform</td>\n",
       "      <td>Ritesh Tiwari</td>\n",
       "      <td>Venture Catalysts, PointOne Capital</td>\n",
       "      <td>400000.0</td>\n",
       "      <td>None</td>\n",
       "      <td>None</td>\n",
       "    </tr>\n",
       "    <tr>\n",
       "      <th>4</th>\n",
       "      <td>Gramophone</td>\n",
       "      <td>2016.0</td>\n",
       "      <td>Indore</td>\n",
       "      <td>AgriTech</td>\n",
       "      <td>Gramophone is an AgTech platform enabling acce...</td>\n",
       "      <td>Ashish Rajan Singh, Harshit Gupta, Nishant Mah...</td>\n",
       "      <td>Siana Capital Management, Info Edge</td>\n",
       "      <td>340000.0</td>\n",
       "      <td>None</td>\n",
       "      <td>None</td>\n",
       "    </tr>\n",
       "  </tbody>\n",
       "</table>\n",
       "</div>"
      ],
      "text/plain": [
       "  Company_Brand  Founded HeadQuarter              Sector  \\\n",
       "0    Aqgromalin   2019.0     Chennai            AgriTech   \n",
       "1      Krayonnz   2019.0   Bangalore              EdTech   \n",
       "2  PadCare Labs   2018.0        Pune  Hygiene management   \n",
       "3         NCOME   2020.0   New Delhi              Escrow   \n",
       "4    Gramophone   2016.0      Indore            AgriTech   \n",
       "\n",
       "                                        What_it_does  \\\n",
       "0                       Cultivating Ideas for Profit   \n",
       "1  An academy-guardian-scholar centric ecosystem ...   \n",
       "2   Converting bio-hazardous waste to harmless waste   \n",
       "3                       Escrow-as-a-service platform   \n",
       "4  Gramophone is an AgTech platform enabling acce...   \n",
       "\n",
       "                                            Founders  \\\n",
       "0                    Prasanna Manogaran, Bharani C L   \n",
       "1                   Saurabh Dixit, Gurudutt Upadhyay   \n",
       "2                                    Ajinkya Dhariya   \n",
       "3                                      Ritesh Tiwari   \n",
       "4  Ashish Rajan Singh, Harshit Gupta, Nishant Mah...   \n",
       "\n",
       "                              Investor    Amount     Stage column10  \n",
       "0                      Angel investors  200000.0      None     None  \n",
       "1                      GSF Accelerator  100000.0  Pre-seed     None  \n",
       "2                       Venture Center       NaN  Pre-seed     None  \n",
       "3  Venture Catalysts, PointOne Capital  400000.0      None     None  \n",
       "4  Siana Capital Management, Info Edge  340000.0      None     None  "
      ]
     },
     "metadata": {},
     "output_type": "display_data"
    }
   ],
   "source": [
    "query = 'Select * from dbo.LP2_Telco_churn_first_3000'\n",
    "df1= pd.read_sql(query, connection)\n",
    "df1.head()"
   ]
  },
  {
   "cell_type": "markdown",
   "metadata": {},
   "source": [
    "#### Load Dataset 2"
   ]
  },
  {
   "cell_type": "code",
   "execution_count": null,
   "metadata": {},
   "outputs": [],
   "source": [
    "df2 = pd.read_csv(r'\\\\Mac\\Home\\Downloads\\Customer_Churn_ML_Prediction\\dataset\\LP2_Telco-churn-second-2000.csv')\n",
    "df2.head()"
   ]
  },
  {
   "cell_type": "markdown",
   "metadata": {},
   "source": [
    "#### Load Dataset 3"
   ]
  },
  {
   "cell_type": "code",
   "execution_count": null,
   "metadata": {},
   "outputs": [
    {
     "data": {
      "text/html": [
       "<div>\n",
       "<style scoped>\n",
       "    .dataframe tbody tr th:only-of-type {\n",
       "        vertical-align: middle;\n",
       "    }\n",
       "\n",
       "    .dataframe tbody tr th {\n",
       "        vertical-align: top;\n",
       "    }\n",
       "\n",
       "    .dataframe thead th {\n",
       "        text-align: right;\n",
       "    }\n",
       "</style>\n",
       "<table border=\"1\" class=\"dataframe\">\n",
       "  <thead>\n",
       "    <tr style=\"text-align: right;\">\n",
       "      <th></th>\n",
       "      <th>Company Name</th>\n",
       "      <th>Industry</th>\n",
       "      <th>Round/Series</th>\n",
       "      <th>Amount</th>\n",
       "      <th>Location</th>\n",
       "      <th>About Company</th>\n",
       "    </tr>\n",
       "  </thead>\n",
       "  <tbody>\n",
       "    <tr>\n",
       "      <th>0</th>\n",
       "      <td>TheCollegeFever</td>\n",
       "      <td>Brand Marketing, Event Promotion, Marketing, S...</td>\n",
       "      <td>Seed</td>\n",
       "      <td>250000</td>\n",
       "      <td>Bangalore, Karnataka, India</td>\n",
       "      <td>TheCollegeFever is a hub for fun, fiesta and f...</td>\n",
       "    </tr>\n",
       "    <tr>\n",
       "      <th>1</th>\n",
       "      <td>Happy Cow Dairy</td>\n",
       "      <td>Agriculture, Farming</td>\n",
       "      <td>Seed</td>\n",
       "      <td>₹40,000,000</td>\n",
       "      <td>Mumbai, Maharashtra, India</td>\n",
       "      <td>A startup which aggregates milk from dairy far...</td>\n",
       "    </tr>\n",
       "    <tr>\n",
       "      <th>2</th>\n",
       "      <td>MyLoanCare</td>\n",
       "      <td>Credit, Financial Services, Lending, Marketplace</td>\n",
       "      <td>Series A</td>\n",
       "      <td>₹65,000,000</td>\n",
       "      <td>Gurgaon, Haryana, India</td>\n",
       "      <td>Leading Online Loans Marketplace in India</td>\n",
       "    </tr>\n",
       "    <tr>\n",
       "      <th>3</th>\n",
       "      <td>PayMe India</td>\n",
       "      <td>Financial Services, FinTech</td>\n",
       "      <td>Angel</td>\n",
       "      <td>2000000</td>\n",
       "      <td>Noida, Uttar Pradesh, India</td>\n",
       "      <td>PayMe India is an innovative FinTech organizat...</td>\n",
       "    </tr>\n",
       "    <tr>\n",
       "      <th>4</th>\n",
       "      <td>Eunimart</td>\n",
       "      <td>E-Commerce Platforms, Retail, SaaS</td>\n",
       "      <td>Seed</td>\n",
       "      <td>—</td>\n",
       "      <td>Hyderabad, Andhra Pradesh, India</td>\n",
       "      <td>Eunimart is a one stop solution for merchants ...</td>\n",
       "    </tr>\n",
       "  </tbody>\n",
       "</table>\n",
       "</div>"
      ],
      "text/plain": [
       "      Company Name                                           Industry  \\\n",
       "0  TheCollegeFever  Brand Marketing, Event Promotion, Marketing, S...   \n",
       "1  Happy Cow Dairy                               Agriculture, Farming   \n",
       "2       MyLoanCare   Credit, Financial Services, Lending, Marketplace   \n",
       "3      PayMe India                        Financial Services, FinTech   \n",
       "4         Eunimart                 E-Commerce Platforms, Retail, SaaS   \n",
       "\n",
       "  Round/Series       Amount                          Location  \\\n",
       "0         Seed       250000       Bangalore, Karnataka, India   \n",
       "1         Seed  ₹40,000,000        Mumbai, Maharashtra, India   \n",
       "2     Series A  ₹65,000,000           Gurgaon, Haryana, India   \n",
       "3        Angel      2000000       Noida, Uttar Pradesh, India   \n",
       "4         Seed            —  Hyderabad, Andhra Pradesh, India   \n",
       "\n",
       "                                       About Company  \n",
       "0  TheCollegeFever is a hub for fun, fiesta and f...  \n",
       "1  A startup which aggregates milk from dairy far...  \n",
       "2          Leading Online Loans Marketplace in India  \n",
       "3  PayMe India is an innovative FinTech organizat...  \n",
       "4  Eunimart is a one stop solution for merchants ...  "
      ]
     },
     "metadata": {},
     "output_type": "display_data"
    }
   ],
   "source": [
    "df3 = pd.read_excel(r'\\\\Mac\\Home\\Downloads\\Customer_Churn_ML_Prediction\\dataset\\Telco-churn-last-2000.xlsx')\n",
    "df3.head()"
   ]
  }
 ],
 "metadata": {
  "kernelspec": {
   "display_name": "virtual",
   "language": "python",
   "name": "python3"
  },
  "language_info": {
   "codemirror_mode": {
    "name": "ipython",
    "version": 3
   },
   "file_extension": ".py",
   "mimetype": "text/x-python",
   "name": "python",
   "nbconvert_exporter": "python",
   "pygments_lexer": "ipython3",
   "version": "3.10.9"
  }
 },
 "nbformat": 4,
 "nbformat_minor": 2
}
